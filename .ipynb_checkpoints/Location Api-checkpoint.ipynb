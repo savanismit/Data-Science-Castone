{
 "cells": [
  {
   "cell_type": "markdown",
   "metadata": {},
   "source": [
    "# Data Science Capston Project Notebook"
   ]
  },
  {
   "cell_type": "code",
   "execution_count": 1,
   "metadata": {},
   "outputs": [],
   "source": [
    "import numpy as np\n",
    "import pandas as pd"
   ]
  },
  {
   "cell_type": "code",
   "execution_count": 2,
   "metadata": {},
   "outputs": [
    {
     "name": "stdout",
     "output_type": "stream",
     "text": [
      "Hello Capstone Project Course!\n"
     ]
    }
   ],
   "source": [
    "print(\"Hello Capstone Project Course!\")"
   ]
  },
  {
   "cell_type": "markdown",
   "metadata": {},
   "source": [
    "# Toronto Clustering "
   ]
  },
  {
   "cell_type": "code",
   "execution_count": 29,
   "metadata": {},
   "outputs": [],
   "source": [
    "from selenium import webdriver\n",
    "from bs4 import BeautifulSoup\n",
    "from selenium.webdriver import Chrome\n",
    "import pandas as pd\n",
    "\n",
    "driver = Chrome()\n",
    "Postal_Code =[]\n",
    "Borough =[]\n",
    "Neighborhood =[]\n",
    "\n",
    "driver.get(\"https://en.wikipedia.org/wiki/List_of_postal_codes_of_Canada:_M\")\n",
    "content = driver.page_source\n",
    "soup = BeautifulSoup(content)\n",
    "\n",
    "for a in soup.findAll('a',href=True,attrs={'class':'wikitable sortable jquery-tablesorter'}):\n",
    "    Postal_Code = a.find('div', attrs={'class':'_3wU53n'})\n",
    "    Borough = a.find('div', attrs={'class':'_1vC4OE _2rQ-NK'})\n",
    "    Neighborhood = a.find('div', attrs={'class':'hGSR34 _2beYZw'})\n",
    "\n",
    "    Postal_Code.append(name.text)\n",
    "    Borough.append(price.text)\n",
    "    Neighborhood.append(rating.text) "
   ]
  },
  {
   "cell_type": "code",
   "execution_count": null,
   "metadata": {},
   "outputs": [],
   "source": [
    "from urllib import urlopen\n",
    "shipUrl = 'https://en.wikipedia.org/wiki/List_of_postal_codes_of_Canada:_M'\n",
    "shipPage = urlopen(shipUrl)\n",
    "\n",
    "soup = BeautifulSoup(shipPage)\n",
    "table = soup.find_all(\"table\", { \"class\" : \"wikitable sortable jquery-tablesorter\" })\n",
    "for mytable in table:\n",
    "    table_body = mytable.find('tbody')\n",
    "    try:\n",
    "        rows = table_body.find_all('tr')\n",
    "        for tr in rows:\n",
    "            cols = tr.find_all('td')\n",
    "            for td in cols:\n",
    "                print(td.text)\n",
    "    except:\n",
    "        print \"no tbody\""
   ]
  }
 ],
 "metadata": {
  "kernelspec": {
   "display_name": "Python 3.7.4 64-bit",
   "language": "python",
   "name": "python37464bitcf856a0f7c7749a1b6d3cad0d6916dd8"
  },
  "language_info": {
   "codemirror_mode": {
    "name": "ipython",
    "version": 3
   },
   "file_extension": ".py",
   "mimetype": "text/x-python",
   "name": "python",
   "nbconvert_exporter": "python",
   "pygments_lexer": "ipython3",
   "version": "3.7.4"
  }
 },
 "nbformat": 4,
 "nbformat_minor": 4
}
